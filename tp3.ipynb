{
 "cells": [
  {
   "cell_type": "markdown",
   "metadata": {},
   "source": [
    "# TP n°3 : Boucle for\n",
    "\n"
   ]
  },
  {
   "cell_type": "markdown",
   "metadata": {},
   "source": [
    "___________________________________________________________________________\n",
    "## Afficher des entiers consécutifs\n",
    "\n"
   ]
  },
  {
   "cell_type": "markdown",
   "metadata": {},
   "source": [
    "Afficher les uns en dessous des autres tous les entiers consécutifs entre 2020 et 2038.\n",
    "\n"
   ]
  },
  {
   "cell_type": "code",
   "execution_count": 2,
   "metadata": {
    "scrolled": true
   },
   "outputs": [
    {
     "name": "stdout",
     "output_type": "stream",
     "text": [
      "2020\n",
      "2021\n",
      "2022\n",
      "2023\n",
      "2024\n",
      "2025\n",
      "2026\n",
      "2027\n",
      "2028\n",
      "2029\n",
      "2030\n",
      "2031\n",
      "2032\n",
      "2033\n",
      "2034\n",
      "2035\n",
      "2036\n",
      "2037\n",
      "2038\n"
     ]
    }
   ],
   "source": [
    "print(\"\\n\".join(map(str, range(2020, 2039))))"
   ]
  },
  {
   "cell_type": "markdown",
   "metadata": {},
   "source": [
    "___________________________________________________________________________\n",
    "## Non multiples\n",
    "\n"
   ]
  },
  {
   "cell_type": "markdown",
   "metadata": {},
   "source": [
    "Combien y-a-t-il d'entiers entre 1 et 20000 qui ne sont ni pairs ni multiples de 5 ? Par exemple, 421 ou 2023 font partie des entiers concernés mais pas 42 ni 2025. Le nombre à trouver est 8000.\n",
    "\n"
   ]
  },
  {
   "cell_type": "code",
   "execution_count": 3,
   "metadata": {},
   "outputs": [
    {
     "name": "stdout",
     "output_type": "stream",
     "text": [
      "8000\n"
     ]
    }
   ],
   "source": [
    "print(len([ent for ent in range(1, 20001) if ent % 2 != 0 and ent % 5 != 0]))"
   ]
  },
  {
   "cell_type": "markdown",
   "metadata": {},
   "source": [
    "___________________________________________________________________________\n",
    "## Somme de $n$ entiers consécutifs à partir de $d$\n",
    "\n"
   ]
  },
  {
   "cell_type": "markdown",
   "metadata": {},
   "source": [
    "On vous donne deux entiers positifs `d` et `n`. On vous demande de calculer la somme des `n` entiers consécutifs à partir de `d`. Par exemple, si $d=10$ et $n=4$, vous devez calculer $10+11+12+13=46$. Voici d'autres exemples :\n",
    "\n",
    "    (d, n) = (10, 1) -> 10\n",
    "    (d, n) = (10, 2) -> 21\n",
    "    (d, n) = (10, 100) -> 5950\n"
   ]
  },
  {
   "cell_type": "code",
   "execution_count": 5,
   "metadata": {},
   "outputs": [
    {
     "name": "stdout",
     "output_type": "stream",
     "text": [
      "10\n",
      "21\n",
      "5950\n"
     ]
    }
   ],
   "source": [
    "def somme(d, n):\n",
    "    return sum([ent for ent in range(d, d + n)])\n",
    "print(somme(10, 1), somme(10, 2), somme(10, 100), sep = \"\\n\")"
   ]
  },
  {
   "cell_type": "markdown",
   "metadata": {},
   "source": [
    "___________________________________________________________________________\n",
    "## Somme d'entiers impairs consécutifs\n",
    "\n"
   ]
  },
  {
   "cell_type": "markdown",
   "metadata": {},
   "source": [
    "On donne un entier $N\\geq 0$ et on demande de calculer la somme des $N$ premiers entiers impairs, c'est-à-dire\n",
    "\n",
    "$$1, 3, 5, 7, 9, 11, \\text{etc}  $$\n",
    "\n",
    "Par exemple, si $N=6$, on trouvera $1+3+5+7+9+11=36$.\n",
    "\n",
    "Vérifier dans vos tests que cette somme vaut toujours $N^2$.\n",
    "\n"
   ]
  },
  {
   "cell_type": "code",
   "execution_count": 8,
   "metadata": {},
   "outputs": [
    {
     "name": "stdout",
     "output_type": "stream",
     "text": [
      "36 True\n"
     ]
    }
   ],
   "source": [
    "def somme(N):\n",
    "    return sum([ent for ent in range(1, N*2, 2)])\n",
    "N = 6\n",
    "sommeN = somme(N)\n",
    "print(sommeN, sommeN == N**2)"
   ]
  },
  {
   "cell_type": "markdown",
   "metadata": {},
   "source": [
    "___________________________________________________________________________\n",
    "## Produit d'entiers\n",
    "\n"
   ]
  },
  {
   "cell_type": "markdown",
   "metadata": {},
   "source": [
    "Calculer le produit $P$ des entiers entre 42 et 421, autrement dit $P=42\\times 43\\times\\cdots \\times 420\\times 421$.\n",
    "\n",
    "On trouvera un très grand entier qui commence par 1484.\n",
    "\n"
   ]
  },
  {
   "cell_type": "code",
   "execution_count": 9,
   "metadata": {},
   "outputs": [
    {
     "name": "stdout",
     "output_type": "stream",
     "text": [
      "14848189022080303821034614133564737343497580676008002860327769938167364248759459249604127188259759366373314779856500009787049418294055338460141203034793829738787489117496935374801572667239259998049335111831066992240863760539174925452006377134586813349848086762177672326218867814294285277447683237095863693089437232918984311120559576104477435056434057098773163123139891363872458016017840642972107243396070247887496102900192805397625977085354850875326104871627245462790386521041227869142627868320939348798674115819679889379730601686038877439530526875289134886752723402935443368607854113726275384511955296973191536084019750662283982208242964644631879649595438349272150602356101987786034775417212442618739310123040397022629976740815882457895025290204728126269627546989594055622273269760000000000000000000000000000000000000000000000000000000000000000000000000000000000000000000000\n"
     ]
    }
   ],
   "source": [
    "p = 1\n",
    "for ent in range(42, 422):\n",
    "    p *= ent\n",
    "print(p)"
   ]
  },
  {
   "cell_type": "markdown",
   "metadata": {},
   "source": [
    "___________________________________________________________________________\n",
    "## Suite d'entiers\n",
    "\n"
   ]
  },
  {
   "cell_type": "markdown",
   "metadata": {},
   "source": [
    "On considère la suite de nombres entiers dont les premiers termes sont :\n",
    "\n",
    "    10, 21, 43, 87, 175, 351, etc\n",
    "Cette suite est construite de la manière suivante :\n",
    "\n",
    "\n",
    "- son premier terme est 10\n",
    "\n",
    "- si $x$ est un terme de la suite, le terme suivant vaut $2x+1$.\n",
    "\n",
    "Par exemple, si $x=87$ alors le terme suivant dans la suite est  $2x+1=2\\times 87 +1=175$.\n",
    "\n",
    "Ecrire un code qui à partir d'un entier $n>0$ affiche le $n^{\\text{e}}$ terme de la suite. Exemple de comportements selon la valeur de `n` :\n",
    "\n",
    "    3 -> 43\n",
    "    1 -> 10\n",
    "    7 -> 703\n"
   ]
  },
  {
   "cell_type": "code",
   "execution_count": 10,
   "metadata": {},
   "outputs": [
    {
     "name": "stdout",
     "output_type": "stream",
     "text": [
      "3\n",
      "43\n",
      "1\n",
      "10\n",
      "7\n",
      "703\n"
     ]
    }
   ],
   "source": [
    "def suite(n):\n",
    "    x = 10\n",
    "    for _ in range(n - 1):\n",
    "        x = 2*x + 1\n",
    "    return x\n",
    "for _ in range(3):\n",
    "    n = int(input())\n",
    "    print(suite(n))"
   ]
  },
  {
   "cell_type": "markdown",
   "metadata": {},
   "source": [
    "___________________________________________________________________________\n",
    "## Plus grand diviseur impair\n",
    "\n"
   ]
  },
  {
   "cell_type": "markdown",
   "metadata": {},
   "source": [
    "Soit un entier $n>0$. On cherche le plus grand diviseur impair $d$ de $n$. Par exemple :\n",
    "\n",
    "\n",
    "- si $n=42$ alors $d=21$,\n",
    "\n",
    "- si $n=45$ alors $d=45$,\n",
    "\n",
    "- si $n=64$ alors $d=1$,\n",
    "\n",
    "- si $n=1000$ alors $d=125$.\n",
    "\n",
    "Déterminer $d$ est parcourant tous les entiers entre $1$ et $n$. En particulier, déterminer le plus grand diviseur impair de $n=416241604$.\n",
    "\n"
   ]
  },
  {
   "cell_type": "code",
   "execution_count": 15,
   "metadata": {},
   "outputs": [
    {
     "name": "stdout",
     "output_type": "stream",
     "text": [
      "104060401\n"
     ]
    }
   ],
   "source": [
    "def div(n):\n",
    "    return max([ent for ent in range(1, n//2 + 1) if n % ent == 0 and ent % 2 == 1])\n",
    "print(div(416241604))"
   ]
  },
  {
   "cell_type": "markdown",
   "metadata": {},
   "source": [
    "___________________________________________________________________________\n",
    "## Pomodoro\n",
    "\n"
   ]
  },
  {
   "cell_type": "markdown",
   "metadata": {},
   "source": [
    "Soit à afficher 10 fois l'heure à partir de 20h42 avec des intervalles d'attente de 25 minutes. On obtient alors l'affichage suivant :\n",
    "\n",
    "    20 h 42\n",
    "    21 h 7\n",
    "    21 h 32\n",
    "    21 h 57\n",
    "    22 h 22\n",
    "    22 h 47\n",
    "    23 h 12                                                                                                                                                                                  \n",
    "    23 h 37                                                                                                                                                                                  \n",
    "    0 h 2                                                                                                                                                                                    \n",
    "    0 h 27\n",
    "Plus généralement, on donne un moment de la journée par\n",
    "\n",
    "\n",
    "- son nombre d'heures `h`,\n",
    "\n",
    "- son nombre de minutes `m`,\n",
    "\n",
    "par exemple, `h=20` et `m =42` ;\n",
    "\n",
    "on donne aussi\n",
    "\n",
    "\n",
    "- une période de temps, en minutes, par exemple `periode=25` en supposant que $\\mathtt{periode < 60}$\n",
    "\n",
    "- un nombre entier,  disons $\\mathtt{n\\geq 1}$\n",
    "\n",
    "et on demande d'afficher l'heure qu'il est aux `n` moments à partir de l'heure donnée et à intervalles réguliers de `periode` minutes. Le nombre d'heures affiché doit toujours être strictement inférieur à 24 et le nombre de minutes strictement inférieur à 60.\n",
    "\n"
   ]
  },
  {
   "cell_type": "code",
   "execution_count": 1,
   "metadata": {},
   "outputs": [
    {
     "name": "stdout",
     "output_type": "stream",
     "text": [
      "22 h 47\n"
     ]
    }
   ],
   "source": [
    "def heure(n, periode):\n",
    "    h, m = 20, 42\n",
    "    for moment in range(n):\n",
    "        m += periode\n",
    "        if m >= 60:\n",
    "            h += 1\n",
    "            m -= 60\n",
    "    return (str(h % 24) + \" h \" + str(m))\n",
    "n = 5\n",
    "print(heure(n, 25))"
   ]
  },
  {
   "cell_type": "markdown",
   "metadata": {},
   "source": [
    "___________________________________________________________________________\n",
    "## Suite de disques\n",
    "\n"
   ]
  },
  {
   "cell_type": "markdown",
   "metadata": {},
   "source": [
    "On se donne des entiers $n, R, s>0$, par exemple $n=8$, $R=25$ et $s=10$. Dessiner avec Turtle un alignement horizontal de $n$ disques noirs de rayon $R$, deux disques successifs étant séparés de $s$ pixels.\n",
    "\n",
    "![](disques.png)\n",
    "\n"
   ]
  },
  {
   "cell_type": "code",
   "execution_count": 13,
   "metadata": {},
   "outputs": [],
   "source": [
    "from turtle import *\n",
    "reset()\n",
    "\n",
    "n, r, s = 8, 25, 10\n",
    "d = 2*r\n",
    "goto(-(n - 1)*(d + s)//2, 0)\n",
    "clear()\n",
    "for _ in range(n):\n",
    "    dot(d)\n",
    "    up()\n",
    "    fd(d + s)\n",
    "    down()"
   ]
  },
  {
   "cell_type": "markdown",
   "metadata": {},
   "source": [
    "___________________________________________________________________________\n",
    "## Clôturer un champ carré\n",
    "\n"
   ]
  },
  {
   "cell_type": "markdown",
   "metadata": {},
   "source": [
    "Sous Turtle, on veut clôturer un champ carré de côté $a$ :\n",
    "\n",
    "![](cloture.png)\n",
    "\n",
    "La distance entre deux poteaux est constante et vaut $25$. Chaque coin du champ comporte un poteau.\n",
    "\n",
    "Dessiner sous Turtle le champ ainsi que tous les poteaux de la clôture. Le côté $a$ du champ pourra être un quelconque multiple de 25 ; le dessin a été réalisé pour $a=300$.\n",
    "\n"
   ]
  },
  {
   "cell_type": "code",
   "execution_count": 16,
   "metadata": {},
   "outputs": [],
   "source": [
    "from turtle import *\n",
    "reset()\n",
    "\n",
    "def cote(nbP):\n",
    "    rt(90)\n",
    "    for _ in range(nbP):\n",
    "        dot()\n",
    "        fd(25)\n",
    "    dot()\n",
    "a = 300\n",
    "goto(a//2, a//2)\n",
    "clear()\n",
    "for _ in range(4):\n",
    "    cote(a//25)"
   ]
  },
  {
   "cell_type": "markdown",
   "metadata": {},
   "source": [
    "___________________________________________________________________________\n",
    "## Sommes de puissances de 2 ou de 3\n",
    "\n"
   ]
  },
  {
   "cell_type": "markdown",
   "metadata": {},
   "source": [
    "On donne un entier $\\mathtt{n>0}$ et on demande de calculer la somme suivante :\n",
    "\n",
    "$$S_n=3^1+2^2+3^3+2^ 4+\\dots+ ?^n$$\n",
    "\n",
    "Si l'exposant courant $k$ est pair, on ajoute $2^k$ sinon on ajoute $3^k$. La somme s'arrête lorsqu'elle contient $n$ termes. Par exemple, $S_4=3^1+2^2+3^3+2^4=3 + 4 + 27 + 16=50$ et $S_4=3^1+2^2+3^3+2^4+3^5=50+243=293$\n",
    "\n"
   ]
  },
  {
   "cell_type": "code",
   "execution_count": 2,
   "metadata": {},
   "outputs": [
    {
     "name": "stdout",
     "output_type": "stream",
     "text": [
      "293\n"
     ]
    }
   ],
   "source": [
    "def somme(n):\n",
    "    return sum([2**terme if terme % 2 == 0 else 3**terme for terme in range(1, n + 1)])\n",
    "n = 5\n",
    "print(somme(n))"
   ]
  },
  {
   "cell_type": "markdown",
   "metadata": {},
   "source": [
    "___________________________________________________________________________\n",
    "## Entier pyramidal\n",
    "\n"
   ]
  },
  {
   "cell_type": "markdown",
   "metadata": {},
   "source": [
    "Un entier $N>0$ est dit *pyramidal* si c'est le nombre de boules nécessaires pour bâtir une pyramide de hauteur $n$ et de base un carré de côté ayant $n$ boules, cf. l'image ci-dessous correspondant à $n=5$ :\n",
    "\n",
    "Pour la suite, on a juste besoin de savoir qu'un nombre pyramidal est de la forme\n",
    "\n",
    "$$N= \\frac {n(n+1)(2n+1)}6$$\n",
    "\n",
    "Ainsi l'entier $N=55$ est un nombre pyramidal car si $n=5$ alors $N= \\frac {n(n+1)(2n+1)}6=55$. Les premiers nombres pyramidaux sont :\n",
    "\n",
    "$$1, 5, 14, 30, 55, 91, 140. $$\n",
    "\n",
    "Déterminer si les entiers suivant sont pyramidaux :\n",
    "\n",
    "\n",
    "- $N=1785$,\n",
    "\n",
    "- $N=2020$,\n",
    "\n",
    "- $N=4900$,\n",
    "\n",
    "- $N=317104004$,\n",
    "\n",
    "- $N=58963256321402313634$,\n",
    "\n",
    "- $N=30979120769004056775$\n",
    "\n",
    "On pourra utiliser que si $N= \\frac {n(n+1)(2n+1)}6$ alors $n\\leq 2\\times N^{\\frac 13}$\n",
    "\n"
   ]
  },
  {
   "cell_type": "code",
   "execution_count": 4,
   "metadata": {},
   "outputs": [
    {
     "name": "stdout",
     "output_type": "stream",
     "text": [
      "1785\n",
      "True\n",
      "2020\n",
      "False\n",
      "4900\n",
      "True\n",
      "317104004\n",
      "True\n",
      "58963256321402313634\n",
      "False\n",
      "30979120769004056775\n",
      "False\n"
     ]
    }
   ],
   "source": [
    "n, N, pyramid = 0, 0, []\n",
    "while N < 58963256321402313634:\n",
    "    n += 1\n",
    "    N = n*(n + 1)*(2*n + 1)/6\n",
    "    pyramid.append(N)\n",
    "for _ in range(6):\n",
    "    print(int(input()) in pyramid)"
   ]
  },
  {
   "cell_type": "markdown",
   "metadata": {},
   "source": [
    "___________________________________________________________________________\n",
    "## Afficher par paires verticales\n",
    "\n"
   ]
  },
  {
   "cell_type": "markdown",
   "metadata": {},
   "source": [
    "On donne deux entiers $a$ et $b$ et on demande d'afficher, par ordre croissant tous les entiers de $a$ à $b$ sur deux lignes en plaçant alternativement les entiers sur la ligne du haut et sur la ligne du bas. Par exemple, si $a=2018$ et $b=2025$ le code doit afficher\n",
    "\n",
    "    2018 2020 2022 2024 \n",
    "    2019 2021 2023 2025 \n",
    "et si $a=2020$ et $b=2038$ le code doit afficher\n",
    "\n",
    "    2020 2022 2024 2026 2028 2030 2032 2034 2036 2038 \n",
    "    2021 2023 2025 2027 2029 2031 2033 2035 2037 \n"
   ]
  },
  {
   "cell_type": "code",
   "execution_count": 10,
   "metadata": {},
   "outputs": [
    {
     "name": "stdout",
     "output_type": "stream",
     "text": [
      "2018\n",
      "2025\n",
      "2018 2020 2022 2024\n",
      "2019 2021 2023 2025\n"
     ]
    }
   ],
   "source": [
    "def liste(a, b, reste):\n",
    "    return [str(ent) for ent in range(a, b + 1) if ent % 2 == reste]\n",
    "a, b = int(input()), int(input())\n",
    "pairs, impairs = liste(a, b, 0), liste(a, b, 1)\n",
    "print(\" \".join(pairs), \" \".join(impairs), sep = \"\\n\")"
   ]
  },
  {
   "cell_type": "markdown",
   "metadata": {},
   "source": [
    "___________________________________________________________________________\n",
    "## Afficher par triplets verticaux\n",
    "\n"
   ]
  },
  {
   "cell_type": "markdown",
   "metadata": {},
   "source": [
    "On donne deux entiers $a$ et $b$ et on demande d'afficher, par ordre croissant tous les entiers de $a$ à $b$ sur trois lignes en plaçant successivement les entiers sur la ligne du haut, la ligne centrale et sur la ligne du bas. Par exemple, si $a=42$ et $b=53$ le code doit afficher\n",
    "\n",
    "    42 45 48 51\n",
    "    43 46 49 52\n",
    "    44 47 50 53\n",
    "et si $a=2019$ et $b=2038$ le code doit afficher\n",
    "\n",
    "    2019 2022 2025 2028 2031 2034 2037\n",
    "    2020 2023 2026 2029 2032 2035 2038\n",
    "    2021 2024 2027 2030 2033 2036\n"
   ]
  },
  {
   "cell_type": "code",
   "execution_count": 11,
   "metadata": {},
   "outputs": [
    {
     "name": "stdout",
     "output_type": "stream",
     "text": [
      "2019\n",
      "2038\n",
      "2019 2022 2025 2028 2031 2034 2037\n",
      "2020 2023 2026 2029 2032 2035 2038\n",
      "2021 2024 2027 2030 2033 2036\n"
     ]
    }
   ],
   "source": [
    "def liste(a, b, reste):\n",
    "    return \" \".join([str(ent) for ent in range(a, b + 1) if ent % 3 == reste])\n",
    "a, b = int(input()), int(input())\n",
    "l1, l2, l3 = liste(a, b, 0), liste(a, b, 1), liste(a, b, 2)\n",
    "print(l1, l2, l3, sep = \"\\n\")"
   ]
  }
 ],
 "metadata": {
  "kernelspec": {
   "display_name": "Python 3",
   "language": "python",
   "name": "python3"
  },
  "language_info": {
   "codemirror_mode": {
    "name": "ipython",
    "version": 3
   },
   "file_extension": ".py",
   "mimetype": "text/x-python",
   "name": "python",
   "nbconvert_exporter": "python",
   "pygments_lexer": "ipython3",
   "version": "3.8.5"
  }
 },
 "nbformat": 4,
 "nbformat_minor": 1
}
